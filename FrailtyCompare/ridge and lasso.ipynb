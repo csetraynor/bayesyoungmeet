{
 "cells": [
  {
   "cell_type": "code",
   "execution_count": 24,
   "metadata": {},
   "outputs": [
    {
     "name": "stdout",
     "output_type": "stream",
     "text": [
      "OLS model\n",
      "0.503379850238\n",
      "Ridge regression\n",
      "0.520468691158\n",
      "Lasso\n",
      "0.531031445553\n"
     ]
    }
   ],
   "source": [
    "import pandas as pd\n",
    "import numpy as np\n",
    "import sklearn.linear_model as lm\n",
    "\n",
    "\n",
    "def scaleData(dframe, notscaled):\n",
    "    df = dframe.copy()\n",
    "    \n",
    "    for var in df.drop(notscaled,axis=1):\n",
    "        mean = df[var].mean()\n",
    "        sd = df[var].std()\n",
    "        \n",
    "        df[var] = (df[var]-mean)/std\n",
    "        \n",
    "    return df\n",
    "\n",
    "def scaleData2(dataFrame, notScaled):\n",
    "    df = dataFrame.copy()\n",
    "    header = list(df.columns.values)\n",
    "    \n",
    "    for var in notScaled:\n",
    "        header.remove(var)\n",
    "        \n",
    "    df[header] = df[header].apply(lambda x: (x-x.mean()) / x.std())\n",
    "    return df\n",
    "\n",
    "def getRsquared(model,training,testing,tLabel):\n",
    "    model.fit(training.drop(tLabel,axis=1),training[tLabel])\n",
    "    r2 = model.score(testing.drop(tLabel,axis=1), testing[tLabel])\n",
    "    print (r2)\n",
    "\n",
    "\n",
    "\n",
    "dataFrame = pd.read_csv(\"C:/Users/u1795546/Downloads/prostate.csv\", header =0)\n",
    "dataFrame = scaleData2(dataFrame, [\"lpsa\",\"train\",\"svi\"])\n",
    "\n",
    "trainData = dataFrame[dataFrame[\"train\"] == \"T\"].copy()\n",
    "trainData = trainData.drop(\"train\", axis =1)\n",
    "\n",
    "testData = dataFrame[dataFrame[\"train\"] == \"F\"].copy()\n",
    "testData = testData.drop(\"train\", axis=1)\n",
    "\n",
    "#OLS model - using default parameters\n",
    "lrModel = lm.LinearRegression()\n",
    "print ( \"OLS model\")\n",
    "getRsquared(lrModel,trainData,testData, \"lpsa\")\n",
    "\n",
    "#Ridge model - use CV varient to set best regularisation strength\n",
    "ridgeModel = lm.RidgeCV(cv = 10)\n",
    "print (\"Ridge regression\")\n",
    "getRsquared(ridgeModel, trainData, testData,\"lpsa\")\n",
    "\n",
    "#Lasso Model\n",
    "print (\"Lasso\")\n",
    "lassoModel = lm.LassoCV()\n",
    "getRsquared(lassoModel, trainData, testData, \"lpsa\")\n",
    "\n",
    "\n"
   ]
  },
  {
   "cell_type": "code",
   "execution_count": null,
   "metadata": {
    "collapsed": true
   },
   "outputs": [],
   "source": []
  },
  {
   "cell_type": "code",
   "execution_count": null,
   "metadata": {
    "collapsed": true
   },
   "outputs": [],
   "source": []
  }
 ],
 "metadata": {
  "kernelspec": {
   "display_name": "Python 3",
   "language": "python",
   "name": "python3"
  },
  "language_info": {
   "codemirror_mode": {
    "name": "ipython",
    "version": 3
   },
   "file_extension": ".py",
   "mimetype": "text/x-python",
   "name": "python",
   "nbconvert_exporter": "python",
   "pygments_lexer": "ipython3",
   "version": "3.6.3"
  }
 },
 "nbformat": 4,
 "nbformat_minor": 2
}
