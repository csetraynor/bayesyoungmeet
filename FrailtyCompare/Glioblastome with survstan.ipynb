{
 "cells": [
  {
   "cell_type": "code",
   "execution_count": 1,
   "metadata": {},
   "outputs": [
    {
     "name": "stderr",
     "output_type": "stream",
     "text": [
      "INFO:stancache.seed:Setting seed to 1245502385\n"
     ]
    }
   ],
   "source": [
    "%load_ext autoreload\n",
    "%autoreload 2\n",
    "%matplotlib inline\n",
    "import random\n",
    "random.seed(1100038344)\n",
    "import survivalstan\n",
    "import numpy as np\n",
    "import pandas as pd\n",
    "from stancache import stancache\n",
    "from matplotlib import pyplot as plt"
   ]
  },
  {
   "cell_type": "code",
   "execution_count": 2,
   "metadata": {},
   "outputs": [
    {
     "data": {
      "text/html": [
       "<div>\n",
       "<style>\n",
       "    .dataframe thead tr:only-child th {\n",
       "        text-align: right;\n",
       "    }\n",
       "\n",
       "    .dataframe thead th {\n",
       "        text-align: left;\n",
       "    }\n",
       "\n",
       "    .dataframe tbody tr th {\n",
       "        vertical-align: top;\n",
       "    }\n",
       "</style>\n",
       "<table border=\"1\" class=\"dataframe\">\n",
       "  <thead>\n",
       "    <tr style=\"text-align: right;\">\n",
       "      <th></th>\n",
       "      <th>Unnamed: 0</th>\n",
       "      <th>index</th>\n",
       "      <th>X2012_METHYLATION_CLASS</th>\n",
       "      <th>AGE</th>\n",
       "      <th>DFS_MONTHS</th>\n",
       "      <th>DFS_STATUS</th>\n",
       "      <th>EXPRESSION_SUBTYPE</th>\n",
       "      <th>G.CIMP_METHYLATION</th>\n",
       "      <th>IDH1_STATUS</th>\n",
       "      <th>MGMT_STATUS</th>\n",
       "      <th>OS_MONTHS</th>\n",
       "      <th>OS_STATUS</th>\n",
       "      <th>SEX</th>\n",
       "      <th>THERAPY_CLASS</th>\n",
       "    </tr>\n",
       "  </thead>\n",
       "  <tbody>\n",
       "    <tr>\n",
       "      <th>0</th>\n",
       "      <td>1</td>\n",
       "      <td>TCGA.06.5410.01</td>\n",
       "      <td>CL_1</td>\n",
       "      <td>72.3</td>\n",
       "      <td>3.5</td>\n",
       "      <td>DiseaseFree</td>\n",
       "      <td>Mesenchymal</td>\n",
       "      <td>non-G-CIMP</td>\n",
       "      <td>WT</td>\n",
       "      <td>METHYLATED</td>\n",
       "      <td>3.5</td>\n",
       "      <td>DECEASED</td>\n",
       "      <td>Female</td>\n",
       "      <td>Unspecified Radiation</td>\n",
       "    </tr>\n",
       "    <tr>\n",
       "      <th>1</th>\n",
       "      <td>2</td>\n",
       "      <td>TCGA.14.0781.01</td>\n",
       "      <td>CL_1</td>\n",
       "      <td>49.0</td>\n",
       "      <td>1.0</td>\n",
       "      <td>DiseaseFree</td>\n",
       "      <td>Mesenchymal</td>\n",
       "      <td>non-G-CIMP</td>\n",
       "      <td>WT</td>\n",
       "      <td>UNMETHYLATED</td>\n",
       "      <td>1.0</td>\n",
       "      <td>DECEASED</td>\n",
       "      <td>Male</td>\n",
       "      <td>Unspecified Radiation</td>\n",
       "    </tr>\n",
       "    <tr>\n",
       "      <th>2</th>\n",
       "      <td>3</td>\n",
       "      <td>TCGA.14.0867.01</td>\n",
       "      <td>CL_3</td>\n",
       "      <td>67.9</td>\n",
       "      <td>2.0</td>\n",
       "      <td>DiseaseFree</td>\n",
       "      <td>Mesenchymal</td>\n",
       "      <td>non-G-CIMP</td>\n",
       "      <td>WT</td>\n",
       "      <td>METHYLATED</td>\n",
       "      <td>2.0</td>\n",
       "      <td>DECEASED</td>\n",
       "      <td>Male</td>\n",
       "      <td>Unspecified Radiation</td>\n",
       "    </tr>\n",
       "    <tr>\n",
       "      <th>3</th>\n",
       "      <td>4</td>\n",
       "      <td>TCGA.06.0402.01</td>\n",
       "      <td>NaN</td>\n",
       "      <td>71.3</td>\n",
       "      <td>0.3</td>\n",
       "      <td>DiseaseFree</td>\n",
       "      <td>Classical</td>\n",
       "      <td>non-G-CIMP</td>\n",
       "      <td>NaN</td>\n",
       "      <td>NaN</td>\n",
       "      <td>0.3</td>\n",
       "      <td>DECEASED</td>\n",
       "      <td>Male</td>\n",
       "      <td>Unspecified Radiation</td>\n",
       "    </tr>\n",
       "    <tr>\n",
       "      <th>4</th>\n",
       "      <td>5</td>\n",
       "      <td>TCGA.06.6700.01</td>\n",
       "      <td>NaN</td>\n",
       "      <td>76.2</td>\n",
       "      <td>4.8</td>\n",
       "      <td>DiseaseFree</td>\n",
       "      <td>NaN</td>\n",
       "      <td>non-G-CIMP</td>\n",
       "      <td>WT</td>\n",
       "      <td>NaN</td>\n",
       "      <td>4.8</td>\n",
       "      <td>LIVING</td>\n",
       "      <td>Male</td>\n",
       "      <td>TMZ Chemoradiation, TMZ Chemo</td>\n",
       "    </tr>\n",
       "  </tbody>\n",
       "</table>\n",
       "</div>"
      ],
      "text/plain": [
       "   Unnamed: 0            index X2012_METHYLATION_CLASS   AGE  DFS_MONTHS  \\\n",
       "0           1  TCGA.06.5410.01                    CL_1  72.3         3.5   \n",
       "1           2  TCGA.14.0781.01                    CL_1  49.0         1.0   \n",
       "2           3  TCGA.14.0867.01                    CL_3  67.9         2.0   \n",
       "3           4  TCGA.06.0402.01                     NaN  71.3         0.3   \n",
       "4           5  TCGA.06.6700.01                     NaN  76.2         4.8   \n",
       "\n",
       "    DFS_STATUS EXPRESSION_SUBTYPE G.CIMP_METHYLATION IDH1_STATUS  \\\n",
       "0  DiseaseFree        Mesenchymal         non-G-CIMP          WT   \n",
       "1  DiseaseFree        Mesenchymal         non-G-CIMP          WT   \n",
       "2  DiseaseFree        Mesenchymal         non-G-CIMP          WT   \n",
       "3  DiseaseFree          Classical         non-G-CIMP         NaN   \n",
       "4  DiseaseFree                NaN         non-G-CIMP          WT   \n",
       "\n",
       "    MGMT_STATUS  OS_MONTHS OS_STATUS     SEX                  THERAPY_CLASS  \n",
       "0    METHYLATED        3.5  DECEASED  Female          Unspecified Radiation  \n",
       "1  UNMETHYLATED        1.0  DECEASED    Male          Unspecified Radiation  \n",
       "2    METHYLATED        2.0  DECEASED    Male          Unspecified Radiation  \n",
       "3           NaN        0.3  DECEASED    Male          Unspecified Radiation  \n",
       "4           NaN        4.8    LIVING    Male  TMZ Chemoradiation, TMZ Chemo  "
      ]
     },
     "execution_count": 2,
     "metadata": {},
     "output_type": "execute_result"
    }
   ],
   "source": [
    "df = pd.read_csv('/home/carlos/R-Factory/BayesianSurv/glioblastome2013.csv', )\n",
    "df.head()"
   ]
  },
  {
   "cell_type": "code",
   "execution_count": 3,
   "metadata": {},
   "outputs": [
    {
     "data": {
      "text/plain": [
       "RangeIndex(start=0, stop=50, step=1)"
      ]
     },
     "execution_count": 3,
     "metadata": {},
     "output_type": "execute_result"
    }
   ],
   "source": [
    "df.index\n"
   ]
  },
  {
   "cell_type": "code",
   "execution_count": 4,
   "metadata": {
    "collapsed": true
   },
   "outputs": [],
   "source": [
    "df['OS_STATUS'] = (df['OS_STATUS'] == 'DECEASED')"
   ]
  },
  {
   "cell_type": "code",
   "execution_count": 5,
   "metadata": {},
   "outputs": [
    {
     "data": {
      "text/html": [
       "<div>\n",
       "<style>\n",
       "    .dataframe thead tr:only-child th {\n",
       "        text-align: right;\n",
       "    }\n",
       "\n",
       "    .dataframe thead th {\n",
       "        text-align: left;\n",
       "    }\n",
       "\n",
       "    .dataframe tbody tr th {\n",
       "        vertical-align: top;\n",
       "    }\n",
       "</style>\n",
       "<table border=\"1\" class=\"dataframe\">\n",
       "  <thead>\n",
       "    <tr style=\"text-align: right;\">\n",
       "      <th></th>\n",
       "      <th>Unnamed: 0</th>\n",
       "      <th>index</th>\n",
       "      <th>X2012_METHYLATION_CLASS</th>\n",
       "      <th>AGE</th>\n",
       "      <th>DFS_MONTHS</th>\n",
       "      <th>DFS_STATUS</th>\n",
       "      <th>EXPRESSION_SUBTYPE</th>\n",
       "      <th>G.CIMP_METHYLATION</th>\n",
       "      <th>IDH1_STATUS</th>\n",
       "      <th>MGMT_STATUS</th>\n",
       "      <th>OS_MONTHS</th>\n",
       "      <th>OS_STATUS</th>\n",
       "      <th>SEX</th>\n",
       "      <th>THERAPY_CLASS</th>\n",
       "    </tr>\n",
       "  </thead>\n",
       "  <tbody>\n",
       "    <tr>\n",
       "      <th>0</th>\n",
       "      <td>1</td>\n",
       "      <td>TCGA.06.5410.01</td>\n",
       "      <td>CL_1</td>\n",
       "      <td>72.3</td>\n",
       "      <td>3.5</td>\n",
       "      <td>DiseaseFree</td>\n",
       "      <td>Mesenchymal</td>\n",
       "      <td>non-G-CIMP</td>\n",
       "      <td>WT</td>\n",
       "      <td>METHYLATED</td>\n",
       "      <td>3.5</td>\n",
       "      <td>True</td>\n",
       "      <td>Female</td>\n",
       "      <td>Unspecified Radiation</td>\n",
       "    </tr>\n",
       "    <tr>\n",
       "      <th>1</th>\n",
       "      <td>2</td>\n",
       "      <td>TCGA.14.0781.01</td>\n",
       "      <td>CL_1</td>\n",
       "      <td>49.0</td>\n",
       "      <td>1.0</td>\n",
       "      <td>DiseaseFree</td>\n",
       "      <td>Mesenchymal</td>\n",
       "      <td>non-G-CIMP</td>\n",
       "      <td>WT</td>\n",
       "      <td>UNMETHYLATED</td>\n",
       "      <td>1.0</td>\n",
       "      <td>True</td>\n",
       "      <td>Male</td>\n",
       "      <td>Unspecified Radiation</td>\n",
       "    </tr>\n",
       "    <tr>\n",
       "      <th>2</th>\n",
       "      <td>3</td>\n",
       "      <td>TCGA.14.0867.01</td>\n",
       "      <td>CL_3</td>\n",
       "      <td>67.9</td>\n",
       "      <td>2.0</td>\n",
       "      <td>DiseaseFree</td>\n",
       "      <td>Mesenchymal</td>\n",
       "      <td>non-G-CIMP</td>\n",
       "      <td>WT</td>\n",
       "      <td>METHYLATED</td>\n",
       "      <td>2.0</td>\n",
       "      <td>True</td>\n",
       "      <td>Male</td>\n",
       "      <td>Unspecified Radiation</td>\n",
       "    </tr>\n",
       "    <tr>\n",
       "      <th>3</th>\n",
       "      <td>4</td>\n",
       "      <td>TCGA.06.0402.01</td>\n",
       "      <td>NaN</td>\n",
       "      <td>71.3</td>\n",
       "      <td>0.3</td>\n",
       "      <td>DiseaseFree</td>\n",
       "      <td>Classical</td>\n",
       "      <td>non-G-CIMP</td>\n",
       "      <td>NaN</td>\n",
       "      <td>NaN</td>\n",
       "      <td>0.3</td>\n",
       "      <td>True</td>\n",
       "      <td>Male</td>\n",
       "      <td>Unspecified Radiation</td>\n",
       "    </tr>\n",
       "    <tr>\n",
       "      <th>4</th>\n",
       "      <td>5</td>\n",
       "      <td>TCGA.06.6700.01</td>\n",
       "      <td>NaN</td>\n",
       "      <td>76.2</td>\n",
       "      <td>4.8</td>\n",
       "      <td>DiseaseFree</td>\n",
       "      <td>NaN</td>\n",
       "      <td>non-G-CIMP</td>\n",
       "      <td>WT</td>\n",
       "      <td>NaN</td>\n",
       "      <td>4.8</td>\n",
       "      <td>False</td>\n",
       "      <td>Male</td>\n",
       "      <td>TMZ Chemoradiation, TMZ Chemo</td>\n",
       "    </tr>\n",
       "  </tbody>\n",
       "</table>\n",
       "</div>"
      ],
      "text/plain": [
       "   Unnamed: 0            index X2012_METHYLATION_CLASS   AGE  DFS_MONTHS  \\\n",
       "0           1  TCGA.06.5410.01                    CL_1  72.3         3.5   \n",
       "1           2  TCGA.14.0781.01                    CL_1  49.0         1.0   \n",
       "2           3  TCGA.14.0867.01                    CL_3  67.9         2.0   \n",
       "3           4  TCGA.06.0402.01                     NaN  71.3         0.3   \n",
       "4           5  TCGA.06.6700.01                     NaN  76.2         4.8   \n",
       "\n",
       "    DFS_STATUS EXPRESSION_SUBTYPE G.CIMP_METHYLATION IDH1_STATUS  \\\n",
       "0  DiseaseFree        Mesenchymal         non-G-CIMP          WT   \n",
       "1  DiseaseFree        Mesenchymal         non-G-CIMP          WT   \n",
       "2  DiseaseFree        Mesenchymal         non-G-CIMP          WT   \n",
       "3  DiseaseFree          Classical         non-G-CIMP         NaN   \n",
       "4  DiseaseFree                NaN         non-G-CIMP          WT   \n",
       "\n",
       "    MGMT_STATUS  OS_MONTHS  OS_STATUS     SEX                  THERAPY_CLASS  \n",
       "0    METHYLATED        3.5       True  Female          Unspecified Radiation  \n",
       "1  UNMETHYLATED        1.0       True    Male          Unspecified Radiation  \n",
       "2    METHYLATED        2.0       True    Male          Unspecified Radiation  \n",
       "3           NaN        0.3       True    Male          Unspecified Radiation  \n",
       "4           NaN        4.8      False    Male  TMZ Chemoradiation, TMZ Chemo  "
      ]
     },
     "execution_count": 5,
     "metadata": {},
     "output_type": "execute_result"
    }
   ],
   "source": [
    "df.head()"
   ]
  },
  {
   "cell_type": "code",
   "execution_count": 6,
   "metadata": {
    "collapsed": true
   },
   "outputs": [],
   "source": [
    "import survivalstan"
   ]
  },
  {
   "cell_type": "code",
   "execution_count": 15,
   "metadata": {},
   "outputs": [
    {
     "name": "stderr",
     "output_type": "stream",
     "text": [
      "INFO:pystan:COMPILING THE C++ CODE FOR MODEL anon_model_f77411c14d5fdde0f8f2d85efd32dc56 NOW.\n"
     ]
    },
    {
     "name": "stdout",
     "output_type": "stream",
     "text": [
      "NOT reusing model.\n",
      "Ran in 90.843 sec.\n"
     ]
    }
   ],
   "source": [
    "fit1 = survivalstan.fit_stan_survival_model(\n",
    "    df=df,\n",
    "    time_col='OS_MONTHS',\n",
    "    event_col='OS_STATUS',\n",
    "    model_code=survivalstan.models.exp_survival_model,\n",
    "    formula='~ AGE + EXPRESSION_SUBTYPE',\n",
    "    model_cohort = 'exp model'\n",
    ")"
   ]
  },
  {
   "cell_type": "code",
   "execution_count": 16,
   "metadata": {},
   "outputs": [
    {
     "data": {
      "text/html": [
       "<div>\n",
       "<style>\n",
       "    .dataframe thead tr:only-child th {\n",
       "        text-align: right;\n",
       "    }\n",
       "\n",
       "    .dataframe thead th {\n",
       "        text-align: left;\n",
       "    }\n",
       "\n",
       "    .dataframe tbody tr th {\n",
       "        vertical-align: top;\n",
       "    }\n",
       "</style>\n",
       "<table border=\"1\" class=\"dataframe\">\n",
       "  <thead>\n",
       "    <tr style=\"text-align: right;\">\n",
       "      <th></th>\n",
       "      <th>mean</th>\n",
       "      <th>se_mean</th>\n",
       "      <th>sd</th>\n",
       "      <th>2.5%</th>\n",
       "      <th>50%</th>\n",
       "      <th>97.5%</th>\n",
       "      <th>Rhat</th>\n",
       "    </tr>\n",
       "  </thead>\n",
       "  <tbody>\n",
       "    <tr>\n",
       "      <th>lp__</th>\n",
       "      <td>-154.008947</td>\n",
       "      <td>0.130957</td>\n",
       "      <td>3.226442</td>\n",
       "      <td>-161.395369</td>\n",
       "      <td>-153.642560</td>\n",
       "      <td>-148.882918</td>\n",
       "      <td>1.003236</td>\n",
       "    </tr>\n",
       "    <tr>\n",
       "      <th>beta[0]</th>\n",
       "      <td>-0.183620</td>\n",
       "      <td>0.014241</td>\n",
       "      <td>0.417880</td>\n",
       "      <td>-1.467240</td>\n",
       "      <td>-0.024851</td>\n",
       "      <td>0.196290</td>\n",
       "      <td>1.005842</td>\n",
       "    </tr>\n",
       "    <tr>\n",
       "      <th>beta[1]</th>\n",
       "      <td>0.076371</td>\n",
       "      <td>0.004831</td>\n",
       "      <td>0.193102</td>\n",
       "      <td>-0.201668</td>\n",
       "      <td>0.017256</td>\n",
       "      <td>0.594340</td>\n",
       "      <td>1.001307</td>\n",
       "    </tr>\n",
       "    <tr>\n",
       "      <th>beta[2]</th>\n",
       "      <td>-0.002875</td>\n",
       "      <td>0.005168</td>\n",
       "      <td>0.174259</td>\n",
       "      <td>-0.377112</td>\n",
       "      <td>-0.000811</td>\n",
       "      <td>0.368326</td>\n",
       "      <td>0.999695</td>\n",
       "    </tr>\n",
       "    <tr>\n",
       "      <th>beta[3]</th>\n",
       "      <td>0.062917</td>\n",
       "      <td>0.005506</td>\n",
       "      <td>0.216018</td>\n",
       "      <td>-0.283843</td>\n",
       "      <td>0.008891</td>\n",
       "      <td>0.694948</td>\n",
       "      <td>1.003438</td>\n",
       "    </tr>\n",
       "    <tr>\n",
       "      <th>beta[4]</th>\n",
       "      <td>0.018637</td>\n",
       "      <td>0.000412</td>\n",
       "      <td>0.011847</td>\n",
       "      <td>-0.004581</td>\n",
       "      <td>0.018774</td>\n",
       "      <td>0.041942</td>\n",
       "      <td>1.004173</td>\n",
       "    </tr>\n",
       "  </tbody>\n",
       "</table>\n",
       "</div>"
      ],
      "text/plain": [
       "               mean   se_mean        sd        2.5%         50%       97.5%  \\\n",
       "lp__    -154.008947  0.130957  3.226442 -161.395369 -153.642560 -148.882918   \n",
       "beta[0]   -0.183620  0.014241  0.417880   -1.467240   -0.024851    0.196290   \n",
       "beta[1]    0.076371  0.004831  0.193102   -0.201668    0.017256    0.594340   \n",
       "beta[2]   -0.002875  0.005168  0.174259   -0.377112   -0.000811    0.368326   \n",
       "beta[3]    0.062917  0.005506  0.216018   -0.283843    0.008891    0.694948   \n",
       "beta[4]    0.018637  0.000412  0.011847   -0.004581    0.018774    0.041942   \n",
       "\n",
       "             Rhat  \n",
       "lp__     1.003236  \n",
       "beta[0]  1.005842  \n",
       "beta[1]  1.001307  \n",
       "beta[2]  0.999695  \n",
       "beta[3]  1.003438  \n",
       "beta[4]  1.004173  "
      ]
     },
     "execution_count": 16,
     "metadata": {},
     "output_type": "execute_result"
    }
   ],
   "source": [
    "survivalstan.utils.filter_stan_summary([fit1], pars=['lp__','beta'])\n"
   ]
  },
  {
   "cell_type": "code",
   "execution_count": 19,
   "metadata": {},
   "outputs": [
    {
     "name": "stdout",
     "output_type": "stream",
     "text": [
      "Reusing model.\n",
      "Ran in 95.766 sec.\n"
     ]
    }
   ],
   "source": [
    "fit2 = survivalstan.fit_stan_survival_model(\n",
    "    df=df,\n",
    "    time_col='OS_MONTHS',\n",
    "    event_col='OS_STATUS',\n",
    "    model_code=survivalstan.models.exp_survival_model,\n",
    "    formula='~ AGE + EXPRESSION_SUBTYPE',\n",
    "    iter = 5000,\n",
    "    chains = 4,\n",
    "    model_cohort = 'exp model, more iter'\n",
    ")"
   ]
  },
  {
   "cell_type": "code",
   "execution_count": 20,
   "metadata": {},
   "outputs": [
    {
     "data": {
      "text/html": [
       "<div>\n",
       "<style>\n",
       "    .dataframe thead tr:only-child th {\n",
       "        text-align: right;\n",
       "    }\n",
       "\n",
       "    .dataframe thead th {\n",
       "        text-align: left;\n",
       "    }\n",
       "\n",
       "    .dataframe tbody tr th {\n",
       "        vertical-align: top;\n",
       "    }\n",
       "</style>\n",
       "<table border=\"1\" class=\"dataframe\">\n",
       "  <thead>\n",
       "    <tr style=\"text-align: right;\">\n",
       "      <th></th>\n",
       "      <th>mean</th>\n",
       "      <th>se_mean</th>\n",
       "      <th>sd</th>\n",
       "      <th>2.5%</th>\n",
       "      <th>50%</th>\n",
       "      <th>97.5%</th>\n",
       "      <th>Rhat</th>\n",
       "    </tr>\n",
       "  </thead>\n",
       "  <tbody>\n",
       "    <tr>\n",
       "      <th>lp__</th>\n",
       "      <td>-153.788843</td>\n",
       "      <td>0.160465</td>\n",
       "      <td>3.304185</td>\n",
       "      <td>-161.257217</td>\n",
       "      <td>-153.516175</td>\n",
       "      <td>-147.695433</td>\n",
       "      <td>1.009176</td>\n",
       "    </tr>\n",
       "    <tr>\n",
       "      <th>beta[0]</th>\n",
       "      <td>-0.164909</td>\n",
       "      <td>0.010601</td>\n",
       "      <td>0.373759</td>\n",
       "      <td>-1.230005</td>\n",
       "      <td>-0.026021</td>\n",
       "      <td>0.228242</td>\n",
       "      <td>1.002549</td>\n",
       "    </tr>\n",
       "    <tr>\n",
       "      <th>beta[1]</th>\n",
       "      <td>0.082215</td>\n",
       "      <td>0.004048</td>\n",
       "      <td>0.200628</td>\n",
       "      <td>-0.181003</td>\n",
       "      <td>0.019866</td>\n",
       "      <td>0.680038</td>\n",
       "      <td>1.000320</td>\n",
       "    </tr>\n",
       "    <tr>\n",
       "      <th>beta[2]</th>\n",
       "      <td>-0.001865</td>\n",
       "      <td>0.004061</td>\n",
       "      <td>0.166193</td>\n",
       "      <td>-0.385991</td>\n",
       "      <td>-0.001451</td>\n",
       "      <td>0.387318</td>\n",
       "      <td>1.001801</td>\n",
       "    </tr>\n",
       "    <tr>\n",
       "      <th>beta[3]</th>\n",
       "      <td>0.060677</td>\n",
       "      <td>0.013643</td>\n",
       "      <td>0.241366</td>\n",
       "      <td>-0.360425</td>\n",
       "      <td>0.006930</td>\n",
       "      <td>0.776026</td>\n",
       "      <td>1.013073</td>\n",
       "    </tr>\n",
       "    <tr>\n",
       "      <th>beta[4]</th>\n",
       "      <td>0.019286</td>\n",
       "      <td>0.000318</td>\n",
       "      <td>0.011677</td>\n",
       "      <td>-0.002939</td>\n",
       "      <td>0.019380</td>\n",
       "      <td>0.041882</td>\n",
       "      <td>1.004052</td>\n",
       "    </tr>\n",
       "  </tbody>\n",
       "</table>\n",
       "</div>"
      ],
      "text/plain": [
       "               mean   se_mean        sd        2.5%         50%       97.5%  \\\n",
       "lp__    -153.788843  0.160465  3.304185 -161.257217 -153.516175 -147.695433   \n",
       "beta[0]   -0.164909  0.010601  0.373759   -1.230005   -0.026021    0.228242   \n",
       "beta[1]    0.082215  0.004048  0.200628   -0.181003    0.019866    0.680038   \n",
       "beta[2]   -0.001865  0.004061  0.166193   -0.385991   -0.001451    0.387318   \n",
       "beta[3]    0.060677  0.013643  0.241366   -0.360425    0.006930    0.776026   \n",
       "beta[4]    0.019286  0.000318  0.011677   -0.002939    0.019380    0.041882   \n",
       "\n",
       "             Rhat  \n",
       "lp__     1.009176  \n",
       "beta[0]  1.002549  \n",
       "beta[1]  1.000320  \n",
       "beta[2]  1.001801  \n",
       "beta[3]  1.013073  \n",
       "beta[4]  1.004052  "
      ]
     },
     "execution_count": 20,
     "metadata": {},
     "output_type": "execute_result"
    }
   ],
   "source": [
    "survivalstan.utils.filter_stan_summary([fit2], pars=['lp__','beta'])\n"
   ]
  },
  {
   "cell_type": "code",
   "execution_count": 15,
   "metadata": {},
   "outputs": [],
   "source": [
    "df['age_centered'] = df.AGE-df.AGE.mean()\n",
    "df.head()\n",
    "df = df.rename(columns = {'Unnamed: 0' : 'sample'})"
   ]
  },
  {
   "cell_type": "code",
   "execution_count": 16,
   "metadata": {},
   "outputs": [
    {
     "name": "stderr",
     "output_type": "stream",
     "text": [
      "INFO:stancache.stancache:prep_data_long_surv: cache_filename set to prep_data_long_surv.cached.df_48564847543.event_col_OS_STATUS.time_col_OS_MONTHS.pkl\n",
      "INFO:stancache.stancache:prep_data_long_surv: Starting execution\n",
      "INFO:stancache.stancache:prep_data_long_surv: Execution completed (0:00:00.170377 elapsed)\n",
      "INFO:stancache.stancache:prep_data_long_surv: Saving results to cache\n"
     ]
    }
   ],
   "source": [
    "dlong = stancache.cached(\n",
    "    survivalstan.prep_data_long_surv,\n",
    "    df=df, event_col='OS_STATUS', time_col='OS_MONTHS'\n",
    ")"
   ]
  },
  {
   "cell_type": "code",
   "execution_count": 17,
   "metadata": {
    "scrolled": true
   },
   "outputs": [
    {
     "data": {
      "text/html": [
       "<div>\n",
       "<style>\n",
       "    .dataframe thead tr:only-child th {\n",
       "        text-align: right;\n",
       "    }\n",
       "\n",
       "    .dataframe thead th {\n",
       "        text-align: left;\n",
       "    }\n",
       "\n",
       "    .dataframe tbody tr th {\n",
       "        vertical-align: top;\n",
       "    }\n",
       "</style>\n",
       "<table border=\"1\" class=\"dataframe\">\n",
       "  <thead>\n",
       "    <tr style=\"text-align: right;\">\n",
       "      <th></th>\n",
       "      <th>sample</th>\n",
       "      <th>index</th>\n",
       "      <th>X2012_METHYLATION_CLASS</th>\n",
       "      <th>AGE</th>\n",
       "      <th>DFS_MONTHS</th>\n",
       "      <th>DFS_STATUS</th>\n",
       "      <th>EXPRESSION_SUBTYPE</th>\n",
       "      <th>G.CIMP_METHYLATION</th>\n",
       "      <th>IDH1_STATUS</th>\n",
       "      <th>MGMT_STATUS</th>\n",
       "      <th>OS_MONTHS</th>\n",
       "      <th>OS_STATUS</th>\n",
       "      <th>SEX</th>\n",
       "      <th>THERAPY_CLASS</th>\n",
       "      <th>age_centered</th>\n",
       "      <th>key</th>\n",
       "      <th>end_time</th>\n",
       "      <th>end_failure</th>\n",
       "    </tr>\n",
       "  </thead>\n",
       "  <tbody>\n",
       "    <tr>\n",
       "      <th>0</th>\n",
       "      <td>1</td>\n",
       "      <td>TCGA.06.5410.01</td>\n",
       "      <td>CL_1</td>\n",
       "      <td>72.3</td>\n",
       "      <td>3.5</td>\n",
       "      <td>DiseaseFree</td>\n",
       "      <td>Mesenchymal</td>\n",
       "      <td>non-G-CIMP</td>\n",
       "      <td>WT</td>\n",
       "      <td>METHYLATED</td>\n",
       "      <td>3.5</td>\n",
       "      <td>True</td>\n",
       "      <td>Female</td>\n",
       "      <td>Unspecified Radiation</td>\n",
       "      <td>14.38</td>\n",
       "      <td>1</td>\n",
       "      <td>3.5</td>\n",
       "      <td>True</td>\n",
       "    </tr>\n",
       "    <tr>\n",
       "      <th>1</th>\n",
       "      <td>1</td>\n",
       "      <td>TCGA.06.5410.01</td>\n",
       "      <td>CL_1</td>\n",
       "      <td>72.3</td>\n",
       "      <td>3.5</td>\n",
       "      <td>DiseaseFree</td>\n",
       "      <td>Mesenchymal</td>\n",
       "      <td>non-G-CIMP</td>\n",
       "      <td>WT</td>\n",
       "      <td>METHYLATED</td>\n",
       "      <td>3.5</td>\n",
       "      <td>True</td>\n",
       "      <td>Female</td>\n",
       "      <td>Unspecified Radiation</td>\n",
       "      <td>14.38</td>\n",
       "      <td>1</td>\n",
       "      <td>1.0</td>\n",
       "      <td>False</td>\n",
       "    </tr>\n",
       "    <tr>\n",
       "      <th>2</th>\n",
       "      <td>1</td>\n",
       "      <td>TCGA.06.5410.01</td>\n",
       "      <td>CL_1</td>\n",
       "      <td>72.3</td>\n",
       "      <td>3.5</td>\n",
       "      <td>DiseaseFree</td>\n",
       "      <td>Mesenchymal</td>\n",
       "      <td>non-G-CIMP</td>\n",
       "      <td>WT</td>\n",
       "      <td>METHYLATED</td>\n",
       "      <td>3.5</td>\n",
       "      <td>True</td>\n",
       "      <td>Female</td>\n",
       "      <td>Unspecified Radiation</td>\n",
       "      <td>14.38</td>\n",
       "      <td>1</td>\n",
       "      <td>2.0</td>\n",
       "      <td>False</td>\n",
       "    </tr>\n",
       "    <tr>\n",
       "      <th>3</th>\n",
       "      <td>1</td>\n",
       "      <td>TCGA.06.5410.01</td>\n",
       "      <td>CL_1</td>\n",
       "      <td>72.3</td>\n",
       "      <td>3.5</td>\n",
       "      <td>DiseaseFree</td>\n",
       "      <td>Mesenchymal</td>\n",
       "      <td>non-G-CIMP</td>\n",
       "      <td>WT</td>\n",
       "      <td>METHYLATED</td>\n",
       "      <td>3.5</td>\n",
       "      <td>True</td>\n",
       "      <td>Female</td>\n",
       "      <td>Unspecified Radiation</td>\n",
       "      <td>14.38</td>\n",
       "      <td>1</td>\n",
       "      <td>0.3</td>\n",
       "      <td>False</td>\n",
       "    </tr>\n",
       "    <tr>\n",
       "      <th>6</th>\n",
       "      <td>1</td>\n",
       "      <td>TCGA.06.5410.01</td>\n",
       "      <td>CL_1</td>\n",
       "      <td>72.3</td>\n",
       "      <td>3.5</td>\n",
       "      <td>DiseaseFree</td>\n",
       "      <td>Mesenchymal</td>\n",
       "      <td>non-G-CIMP</td>\n",
       "      <td>WT</td>\n",
       "      <td>METHYLATED</td>\n",
       "      <td>3.5</td>\n",
       "      <td>True</td>\n",
       "      <td>Female</td>\n",
       "      <td>Unspecified Radiation</td>\n",
       "      <td>14.38</td>\n",
       "      <td>1</td>\n",
       "      <td>3.2</td>\n",
       "      <td>False</td>\n",
       "    </tr>\n",
       "  </tbody>\n",
       "</table>\n",
       "</div>"
      ],
      "text/plain": [
       "   sample            index X2012_METHYLATION_CLASS   AGE  DFS_MONTHS  \\\n",
       "0       1  TCGA.06.5410.01                    CL_1  72.3         3.5   \n",
       "1       1  TCGA.06.5410.01                    CL_1  72.3         3.5   \n",
       "2       1  TCGA.06.5410.01                    CL_1  72.3         3.5   \n",
       "3       1  TCGA.06.5410.01                    CL_1  72.3         3.5   \n",
       "6       1  TCGA.06.5410.01                    CL_1  72.3         3.5   \n",
       "\n",
       "    DFS_STATUS EXPRESSION_SUBTYPE G.CIMP_METHYLATION IDH1_STATUS MGMT_STATUS  \\\n",
       "0  DiseaseFree        Mesenchymal         non-G-CIMP          WT  METHYLATED   \n",
       "1  DiseaseFree        Mesenchymal         non-G-CIMP          WT  METHYLATED   \n",
       "2  DiseaseFree        Mesenchymal         non-G-CIMP          WT  METHYLATED   \n",
       "3  DiseaseFree        Mesenchymal         non-G-CIMP          WT  METHYLATED   \n",
       "6  DiseaseFree        Mesenchymal         non-G-CIMP          WT  METHYLATED   \n",
       "\n",
       "   OS_MONTHS  OS_STATUS     SEX          THERAPY_CLASS  age_centered  key  \\\n",
       "0        3.5       True  Female  Unspecified Radiation         14.38    1   \n",
       "1        3.5       True  Female  Unspecified Radiation         14.38    1   \n",
       "2        3.5       True  Female  Unspecified Radiation         14.38    1   \n",
       "3        3.5       True  Female  Unspecified Radiation         14.38    1   \n",
       "6        3.5       True  Female  Unspecified Radiation         14.38    1   \n",
       "\n",
       "   end_time end_failure  \n",
       "0       3.5        True  \n",
       "1       1.0       False  \n",
       "2       2.0       False  \n",
       "3       0.3       False  \n",
       "6       3.2       False  "
      ]
     },
     "execution_count": 17,
     "metadata": {},
     "output_type": "execute_result"
    }
   ],
   "source": [
    "dlong.head()\n"
   ]
  },
  {
   "cell_type": "code",
   "execution_count": 18,
   "metadata": {},
   "outputs": [],
   "source": [
    "df = df.rename(columns = {'sample' : 'index'})"
   ]
  },
  {
   "cell_type": "code",
   "execution_count": 19,
   "metadata": {},
   "outputs": [
    {
     "name": "stderr",
     "output_type": "stream",
     "text": [
      "INFO:stancache.stancache:Step 1: Get compiled model code, possibly from cache\n",
      "INFO:stancache.stancache:StanModel: cache_filename set to anon_model.cython_0_26_1.model_code_5118842489520038317.pystan_2_17_0_0.stanmodel.pkl\n",
      "INFO:stancache.stancache:StanModel: Loading result from cache\n",
      "INFO:stancache.stancache:Step 2: Get posterior draws from model, possibly from cache\n",
      "INFO:stancache.stancache:sampling: cache_filename set to anon_model.cython_0_26_1.model_code_5118842489520038317.pystan_2_17_0_0.stanfit.chains_4.data_90464894945.iter_5000.seed_9001.pkl\n",
      "INFO:stancache.stancache:sampling: Starting execution\n",
      "INFO:stancache.stancache:sampling: Execution completed (0:28:40.608342 elapsed)\n",
      "INFO:stancache.stancache:sampling: Saving results to cache\n",
      "/home/carlos/anaconda3/lib/python3.6/site-packages/stancache/stancache.py:285: UserWarning: Pickling fit objects is an experimental feature!\n",
      "The relevant StanModel instance must be pickled along with this fit object.\n",
      "When unpickling the StanModel must be unpickled first.\n",
      "  pickle.dump(res, open(cache_filepath, 'wb'), pickle.HIGHEST_PROTOCOL)\n"
     ]
    }
   ],
   "source": [
    "testfit = survivalstan.fit_stan_survival_model(\n",
    "    model_cohort = 'test model',\n",
    "    model_code = survivalstan.models.pem_survival_model,\n",
    "    df = dlong,\n",
    "    sample_col = 'index',\n",
    "    timepoint_end_col = 'end_time',\n",
    "    event_col = 'end_failure',\n",
    "    formula = '~ age_centered + SEX',\n",
    "    iter = 5000,\n",
    "    chains = 4,\n",
    "    seed = 9001,\n",
    "    FIT_FUN = stancache.cached_stan_fit,\n",
    "    )"
   ]
  },
  {
   "cell_type": "code",
   "execution_count": 20,
   "metadata": {},
   "outputs": [
    {
     "name": "stdout",
     "output_type": "stream",
     "text": [
      "          mean   se_mean         sd        2.5%        50%      97.5%      Rhat\n",
      "lp__ -82.81044  9.108335  49.888404 -156.070032 -89.527335  39.123374  1.133123\n"
     ]
    }
   ],
   "source": [
    "survivalstan.utils.print_stan_summary([testfit], pars='lp__')\n"
   ]
  },
  {
   "cell_type": "code",
   "execution_count": 21,
   "metadata": {},
   "outputs": [
    {
     "name": "stdout",
     "output_type": "stream",
     "text": [
      "                          mean   se_mean        sd      2.5%       50%     97.5%      Rhat\n",
      "log_baseline_raw[0]  -0.001692  0.001893  0.189264 -0.404380 -0.000075  0.413943  1.002505\n",
      "log_baseline_raw[1]   0.034417  0.004980  0.198633 -0.336619  0.010372  0.547604  1.002680\n",
      "log_baseline_raw[2]  -0.006832  0.001838  0.183814 -0.437254 -0.000511  0.379111  1.000471\n",
      "log_baseline_raw[3]   0.064088  0.008762  0.218879 -0.251928  0.014753  0.683474  1.008043\n",
      "log_baseline_raw[4]   0.020155  0.001857  0.185736 -0.331790  0.004186  0.461147  1.000818\n",
      "log_baseline_raw[5]   0.010475  0.001875  0.187499 -0.387155  0.002837  0.437652  1.000194\n",
      "log_baseline_raw[6]   0.005230  0.001856  0.185613 -0.380516  0.000249  0.419889  1.003027\n",
      "log_baseline_raw[7]  -0.002180  0.001810  0.180962 -0.406178 -0.000299  0.396054  0.999908\n",
      "log_baseline_raw[8]  -0.004695  0.001782  0.178217 -0.430590 -0.000659  0.361438  0.999977\n",
      "log_baseline_raw[9]  -0.002433  0.001738  0.173831 -0.376566 -0.001968  0.386687  1.001532\n",
      "log_baseline_raw[10]  0.031587  0.001792  0.179212 -0.296883  0.009036  0.469296  1.003100\n",
      "log_baseline_raw[11] -0.001633  0.001796  0.179551 -0.412623 -0.000395  0.372374  0.999786\n",
      "log_baseline_raw[12] -0.039201  0.001903  0.190267 -0.533585 -0.010321  0.285875  1.003641\n",
      "log_baseline_raw[13]  0.001055  0.001785  0.178513 -0.389007  0.002265  0.385667  0.999868\n",
      "log_baseline_raw[14] -0.009731  0.001817  0.181745 -0.403158 -0.002703  0.352310  1.001589\n",
      "log_baseline_raw[15] -0.039362  0.005613  0.189675 -0.523429 -0.013493  0.295172  1.004296\n",
      "log_baseline_raw[16] -0.006333  0.001716  0.171633 -0.402444 -0.000643  0.358170  1.000476\n",
      "log_baseline_raw[17] -0.008765  0.001705  0.170490 -0.404544 -0.000263  0.346833  1.000248\n",
      "log_baseline_raw[18] -0.046326  0.005840  0.187250 -0.520389 -0.008526  0.263283  1.005192\n",
      "log_baseline_raw[19] -0.042201  0.004920  0.193089 -0.548822 -0.008181  0.281241  1.004627\n",
      "log_baseline_raw[20] -0.008503  0.001690  0.169034 -0.404404 -0.000382  0.355410  1.000656\n",
      "log_baseline_raw[21] -0.014322  0.002349  0.175375 -0.436318 -0.001942  0.343909  1.000724\n",
      "log_baseline_raw[22] -0.044485  0.006033  0.185177 -0.524729 -0.012049  0.268590  1.003885\n",
      "log_baseline_raw[23] -0.012207  0.001722  0.172204 -0.412266 -0.000528  0.342889  1.000282\n",
      "log_baseline_raw[24] -0.010302  0.001742  0.174220 -0.411110 -0.000485  0.365165  1.000597\n",
      "log_baseline_raw[25] -0.010106  0.001768  0.176778 -0.425137 -0.000143  0.366944  1.000376\n",
      "log_baseline_raw[26] -0.007465  0.001855  0.185499 -0.432208 -0.000353  0.386299  1.000684\n",
      "log_baseline_raw[27] -0.012936  0.001738  0.173820 -0.411132 -0.003321  0.351743  1.000216\n",
      "log_baseline_raw[28] -0.013441  0.001748  0.174818 -0.437918 -0.000444  0.333441  1.000959\n",
      "log_baseline_raw[29] -0.042178  0.006173  0.188946 -0.529747 -0.007826  0.274596  1.005154\n",
      "log_baseline_raw[30] -0.007428  0.001731  0.173133 -0.399824 -0.000146  0.365924  1.000017\n",
      "log_baseline_raw[31] -0.008152  0.001784  0.178412 -0.427416 -0.001726  0.376489  0.999993\n",
      "log_baseline_raw[32] -0.009094  0.001798  0.179795 -0.417671 -0.001772  0.348240  1.000716\n",
      "log_baseline_raw[33] -0.002043  0.001739  0.173913 -0.388423  0.000262  0.372194  1.002746\n",
      "log_baseline_raw[34] -0.000635  0.001833  0.183284 -0.402520 -0.000113  0.407097  0.999716\n",
      "log_baseline_raw[35]  0.000232  0.001866  0.186611 -0.406612  0.000482  0.403372  1.000300\n",
      "log_baseline_raw[36]  0.008364  0.001780  0.178027 -0.374513  0.000729  0.410347  1.000378\n",
      "log_baseline_raw[37]  0.006332  0.001794  0.179389 -0.373505  0.000675  0.409102  0.999961\n",
      "log_baseline_raw[38]  0.000821  0.001809  0.180916 -0.403755 -0.000612  0.385373  1.001333\n",
      "log_baseline_raw[39]  0.013305  0.001934  0.193379 -0.384447  0.002359  0.452976  1.000556\n",
      "log_baseline_raw[40]  0.015728  0.001896  0.189597 -0.366369  0.002968  0.473331  1.001186\n",
      "log_baseline_raw[41]  0.015831  0.001904  0.190418 -0.352329  0.001221  0.469419  1.001810\n",
      "log_baseline_raw[42]  0.019129  0.001881  0.188078 -0.353556  0.004790  0.459928  1.000793\n",
      "log_baseline_raw[43] -0.016702  0.001895  0.189530 -0.468920 -0.003614  0.363901  1.000800\n",
      "log_baseline_raw[44]  0.030394  0.004293  0.194100 -0.322690  0.003514  0.494641  1.002477\n"
     ]
    }
   ],
   "source": [
    "survivalstan.utils.print_stan_summary([testfit], pars='log_baseline_raw')\n"
   ]
  },
  {
   "cell_type": "code",
   "execution_count": 22,
   "metadata": {},
   "outputs": [
    {
     "data": {
      "image/png": "[encoded data removed]",
      "text/plain": [
       "<matplotlib.figure.Figure at 0x7f642c743940>"
      ]
     },
     "metadata": {},
     "output_type": "display_data"
    }
   ],
   "source": [
    "survivalstan.utils.plot_stan_summary([testfit], pars='log_baseline_raw')\n"
   ]
  },
  {
   "cell_type": "code",
   "execution_count": 23,
   "metadata": {},
   "outputs": [
    {
     "data": {
      "image/png": "[encoded data removed]",
      "text/plain": [
       "<matplotlib.figure.Figure at 0x7f642c621e10>"
      ]
     },
     "metadata": {},
     "output_type": "display_data"
    }
   ],
   "source": [
    "survivalstan.utils.plot_coefs([testfit])\n"
   ]
  },
  {
   "cell_type": "code",
   "execution_count": 25,
   "metadata": {
    "collapsed": true
   },
   "outputs": [],
   "source": [
    "ppsurv = survivalstan.utils.prep_pp_survival_data([testfit], by='SEX')\n"
   ]
  },
  {
   "cell_type": "code",
   "execution_count": null,
   "metadata": {
    "collapsed": true
   },
   "outputs": [],
   "source": [
    "ppsurvrv.head()"
   ]
  },
  {
   "cell_type": "code",
   "execution_count": 24,
   "metadata": {},
   "outputs": [
    {
     "ename": "NameError",
     "evalue": "name 'ppsurv' is not defined",
     "output_type": "error",
     "traceback": [
      "\u001b[0;31m---------------------------------------------------------------------------\u001b[0m",
      "\u001b[0;31mNameError\u001b[0m                                 Traceback (most recent call last)",
      "\u001b[0;32m<ipython-input-24-e5baef76ff8b>\u001b[0m in \u001b[0;36m<module>\u001b[0;34m()\u001b[0m\n\u001b[1;32m      1\u001b[0m \u001b[0msubplot\u001b[0m \u001b[0;34m=\u001b[0m \u001b[0mplt\u001b[0m\u001b[0;34m.\u001b[0m\u001b[0msubplots\u001b[0m\u001b[0;34m(\u001b[0m\u001b[0;36m1\u001b[0m\u001b[0;34m,\u001b[0m \u001b[0;36m1\u001b[0m\u001b[0;34m)\u001b[0m\u001b[0;34m\u001b[0m\u001b[0m\n\u001b[0;32m----> 2\u001b[0;31m survivalstan.utils._plot_pp_survival_data(ppsurv.query('SEX == \"Male\"').copy(),\n\u001b[0m\u001b[1;32m      3\u001b[0m                                           subplot=subplot, color='blue', alpha=0.5)\n\u001b[1;32m      4\u001b[0m survivalstan.utils._plot_pp_survival_data(ppsurv.query('SEX == \"Female\"').copy(),\n\u001b[1;32m      5\u001b[0m                                           subplot=subplot, color='red', alpha=0.5)\n",
      "\u001b[0;31mNameError\u001b[0m: name 'ppsurv' is not defined"
     ]
    },
    {
     "data": {
      "image/png": "[encoded data removed]",
      "text/plain": [
       "<matplotlib.figure.Figure at 0x7f642c5d41d0>"
      ]
     },
     "metadata": {},
     "output_type": "display_data"
    }
   ],
   "source": [
    "subplot = plt.subplots(1, 1)\n",
    "survivalstan.utils._plot_pp_survival_data(ppsurv.query('SEX == \"Male\"').copy(),\n",
    "                                          subplot=subplot, color='blue', alpha=0.5)\n",
    "survivalstan.utils._plot_pp_survival_data(ppsurv.query('SEX == \"Female\"').copy(),\n",
    "                                          subplot=subplot, color='red', alpha=0.5)\n",
    "survivalstan.utils.plot_observed_survival(df=d[d['SEX']=='Female'], event_col='event', time_col='t',\n",
    "                                          color='red', label='Female')\n",
    "survivalstan.utils.plot_observed_survival(df=d[d['SEX']=='male'], event_col='event', time_col='t',\n",
    "                                          color='blue', label='male')\n",
    "plt.legend()"
   ]
  },
  {
   "cell_type": "code",
   "execution_count": null,
   "metadata": {
    "collapsed": true
   },
   "outputs": [],
   "source": []
  }
 ],
 "metadata": {
  "kernelspec": {
   "display_name": "Python 3",
   "language": "python",
   "name": "python3"
  },
  "language_info": {
   "codemirror_mode": {
    "name": "ipython",
    "version": 3
   },
   "file_extension": ".py",
   "mimetype": "text/x-python",
   "name": "python",
   "nbconvert_exporter": "python",
   "pygments_lexer": "ipython3",
   "version": "3.6.3"
  }
 },
 "nbformat": 4,
 "nbformat_minor": 2
}
