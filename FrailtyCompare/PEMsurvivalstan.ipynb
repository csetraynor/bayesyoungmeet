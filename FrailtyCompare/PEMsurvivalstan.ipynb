{
 "cells": [
  {
   "cell_type": "code",
   "execution_count": 2,
   "metadata": {},
   "outputs": [
    {
     "name": "stdout",
     "output_type": "stream",
     "text": [
      "The autoreload extension is already loaded. To reload it, use:\n",
      "  %reload_ext autoreload\n"
     ]
    }
   ],
   "source": [
    "%load_ext autoreload\n",
    "%autoreload 2\n",
    "%matplotlib inline\n",
    "import random\n",
    "random.seed(1100038344)\n",
    "import survivalstan\n",
    "import numpy as np\n",
    "import pandas as pd\n",
    "from stancache import stancache\n",
    "from matplotlib import pyplot as plt"
   ]
  },
  {
   "cell_type": "code",
   "execution_count": 3,
   "metadata": {},
   "outputs": [
    {
     "name": "stdout",
     "output_type": "stream",
     "text": [
      "/*  Variable naming:\n",
      " // dimensions\n",
      " N          = total number of observations (length of data)\n",
      " S          = number of sample ids\n",
      " T          = max timepoint (number of timepoint ids)\n",
      " M          = number of covariates\n",
      " \n",
      " // main data matrix (per observed timepoint*record)\n",
      " s          = sample id for each obs\n",
      " t          = timepoint id for each obs\n",
      " event      = integer indicating if there was an event at time t for sample s\n",
      " x          = matrix of real-valued covariates at time t for sample n [N, X]\n",
      " \n",
      " // timepoint-specific data (per timepoint, ordered by timepoint id)\n",
      " t_obs      = observed time since origin for each timepoint id (end of period)\n",
      " t_dur      = duration of each timepoint period (first diff of t_obs)\n",
      " \n",
      "*/\n",
      "// Jacqueline Buros Novik <jackinovik@gmail.com>\n",
      "\n",
      "data {\n",
      "  // dimensions\n",
      "  int<lower=1> N;\n",
      "  int<lower=1> S;\n",
      "  int<lower=1> T;\n",
      "  int<lower=0> M;\n",
      "  \n",
      "  // data matrix\n",
      "  int<lower=1, upper=N> s[N];     // sample id\n",
      "  int<lower=1, upper=T> t[N];     // timepoint id\n",
      "  int<lower=0, upper=1> event[N]; // 1: event, 0:censor\n",
      "  matrix[N, M] x;                 // explanatory vars\n",
      "  \n",
      "  // timepoint data\n",
      "  vector<lower=0>[T] t_obs;\n",
      "  vector<lower=0>[T] t_dur;\n",
      "}\n",
      "transformed data {\n",
      "  vector[T] log_t_dur;  // log-duration for each timepoint\n",
      "  int n_trans[S, T];  \n",
      "  \n",
      "  log_t_dur = log(t_obs);\n",
      "\n",
      "  // n_trans used to map each sample*timepoint to n (used in gen quantities)\n",
      "  // map each patient/timepoint combination to n values\n",
      "  for (n in 1:N) {\n",
      "      n_trans[s[n], t[n]] = n;\n",
      "  }\n",
      "\n",
      "  // fill in missing values with n for max t for that patient\n",
      "  // ie assume \"last observed\" state applies forward (may be problematic for TVC)\n",
      "  // this allows us to predict failure times >= observed survival times\n",
      "  for (samp in 1:S) {\n",
      "      int last_value;\n",
      "      last_value = 0;\n",
      "      for (tp in 1:T) {\n",
      "          // manual says ints are initialized to neg values\n",
      "          // so <=0 is a shorthand for \"unassigned\"\n",
      "          if (n_trans[samp, tp] <= 0 && last_value != 0) {\n",
      "              n_trans[samp, tp] = last_value;\n",
      "          } else {\n",
      "              last_value = n_trans[samp, tp];\n",
      "          }\n",
      "      }\n",
      "  }  \n",
      "}\n",
      "parameters {\n",
      "  vector[T] log_baseline_raw; // unstructured baseline hazard for each timepoint t\n",
      "  vector[M] beta;         // beta for each covariate\n",
      "  real<lower=0> baseline_sigma;\n",
      "  real log_baseline_mu;\n",
      "}\n",
      "transformed parameters {\n",
      "  vector[N] log_hazard;\n",
      "  vector[T] log_baseline;     // unstructured baseline hazard for each timepoint t\n",
      "  \n",
      "  log_baseline = log_baseline_mu + log_baseline_raw + log_t_dur;\n",
      "  \n",
      "  for (n in 1:N) {\n",
      "    log_hazard[n] = log_baseline[t[n]] + x[n,]*beta;\n",
      "  }\n",
      "}\n",
      "model {\n",
      "  beta ~ cauchy(0, 2);\n",
      "  event ~ poisson_log(log_hazard);\n",
      "  log_baseline_mu ~ normal(0, 1);\n",
      "  baseline_sigma ~ normal(0, 1);\n",
      "  log_baseline_raw ~ normal(0, baseline_sigma);\n",
      "}\n",
      "generated quantities {\n",
      "  real log_lik[N];\n",
      "  vector[T] baseline;\n",
      "  real y_hat_time[S];      // predicted failure time for each sample\n",
      "  int y_hat_event[S];      // predicted event (0:censor, 1:event)\n",
      "  \n",
      "  // compute raw baseline hazard, for summary/plotting\n",
      "  baseline = exp(log_baseline_mu + log_baseline_raw);\n",
      "  \n",
      "  // prepare log_lik for loo-psis\n",
      "  for (n in 1:N) {\n",
      "      log_lik[n] = poisson_log_log(event[n], log_hazard[n]);\n",
      "  }\n",
      "\n",
      "  // posterior predicted values\n",
      "  for (samp in 1:S) {\n",
      "      int sample_alive;\n",
      "      sample_alive = 1;\n",
      "      for (tp in 1:T) {\n",
      "        if (sample_alive == 1) {\n",
      "              int n;\n",
      "              int pred_y;\n",
      "              real log_haz;\n",
      "              \n",
      "              // determine predicted value of this sample's hazard\n",
      "              n = n_trans[samp, tp];\n",
      "              log_haz = log_baseline[tp] + x[n,] * beta;\n",
      "              \n",
      "              // now, make posterior prediction of an event at this tp\n",
      "              if (log_haz < log(pow(2, 30))) \n",
      "                  pred_y = poisson_log_rng(log_haz);\n",
      "              else\n",
      "                  pred_y = 9; \n",
      "              \n",
      "              // summarize survival time (observed) for this pt\n",
      "              if (pred_y >= 1) {\n",
      "                  // mark this patient as ineligible for future tps\n",
      "                  // note: deliberately treat 9s as events \n",
      "                  sample_alive = 0;\n",
      "                  y_hat_time[samp] = t_obs[tp];\n",
      "                  y_hat_event[samp] = 1;\n",
      "              }\n",
      "              \n",
      "          }\n",
      "      } // end per-timepoint loop\n",
      "      \n",
      "      // if patient still alive at max\n",
      "      if (sample_alive == 1) {\n",
      "          y_hat_time[samp] = t_obs[T];\n",
      "          y_hat_event[samp] = 0;\n",
      "      }\n",
      "  } // end per-sample loop  \n",
      "}\n"
     ]
    }
   ],
   "source": [
    "#How does the stan code look like \n",
    "print(survivalstan.models.pem_survival_model)"
   ]
  },
  {
   "cell_type": "code",
   "execution_count": 6,
   "metadata": {},
   "outputs": [
    {
     "name": "stderr",
     "output_type": "stream",
     "text": [
      "INFO:stancache.stancache:sim_data_exp_correlated: cache_filename set to sim_data_exp_correlated.cached.N_28.censor_time_20.rate_coefs_54462717316.rate_form_1 + sex.pkl\n",
      "INFO:stancache.stancache:sim_data_exp_correlated: Loading result from cache\n"
     ]
    }
   ],
   "source": [
    "#simulate data\n",
    "d = stancache.cached(\n",
    "    survivalstan.sim.sim_data_exp_correlated,\n",
    "    N=28,\n",
    "    censor_time=20,\n",
    "    rate_form='1 + sex',\n",
    "    rate_coefs=[-3, 0.5],\n",
    ")\n",
    "d['age_centered'] = d['age'] - d['age'].mean()"
   ]
  },
  {
   "cell_type": "code",
   "execution_count": 7,
   "metadata": {},
   "outputs": [
    {
     "data": {
      "text/html": [
       "<div>\n",
       "<style>\n",
       "    .dataframe thead tr:only-child th {\n",
       "        text-align: right;\n",
       "    }\n",
       "\n",
       "    .dataframe thead th {\n",
       "        text-align: left;\n",
       "    }\n",
       "\n",
       "    .dataframe tbody tr th {\n",
       "        vertical-align: top;\n",
       "    }\n",
       "</style>\n",
       "<table border=\"1\" class=\"dataframe\">\n",
       "  <thead>\n",
       "    <tr style=\"text-align: right;\">\n",
       "      <th></th>\n",
       "      <th>age</th>\n",
       "      <th>sex</th>\n",
       "      <th>rate</th>\n",
       "      <th>true_t</th>\n",
       "      <th>t</th>\n",
       "      <th>event</th>\n",
       "      <th>index</th>\n",
       "      <th>age_centered</th>\n",
       "    </tr>\n",
       "  </thead>\n",
       "  <tbody>\n",
       "    <tr>\n",
       "      <th>0</th>\n",
       "      <td>51</td>\n",
       "      <td>male</td>\n",
       "      <td>0.082085</td>\n",
       "      <td>9.415938</td>\n",
       "      <td>9.415938</td>\n",
       "      <td>True</td>\n",
       "      <td>0</td>\n",
       "      <td>-6.107143</td>\n",
       "    </tr>\n",
       "    <tr>\n",
       "      <th>1</th>\n",
       "      <td>62</td>\n",
       "      <td>female</td>\n",
       "      <td>0.049787</td>\n",
       "      <td>6.777501</td>\n",
       "      <td>6.777501</td>\n",
       "      <td>True</td>\n",
       "      <td>1</td>\n",
       "      <td>4.892857</td>\n",
       "    </tr>\n",
       "    <tr>\n",
       "      <th>2</th>\n",
       "      <td>49</td>\n",
       "      <td>female</td>\n",
       "      <td>0.049787</td>\n",
       "      <td>4.621227</td>\n",
       "      <td>4.621227</td>\n",
       "      <td>True</td>\n",
       "      <td>2</td>\n",
       "      <td>-8.107143</td>\n",
       "    </tr>\n",
       "    <tr>\n",
       "      <th>3</th>\n",
       "      <td>48</td>\n",
       "      <td>male</td>\n",
       "      <td>0.082085</td>\n",
       "      <td>8.246045</td>\n",
       "      <td>8.246045</td>\n",
       "      <td>True</td>\n",
       "      <td>3</td>\n",
       "      <td>-9.107143</td>\n",
       "    </tr>\n",
       "    <tr>\n",
       "      <th>4</th>\n",
       "      <td>52</td>\n",
       "      <td>female</td>\n",
       "      <td>0.049787</td>\n",
       "      <td>11.400912</td>\n",
       "      <td>11.400912</td>\n",
       "      <td>True</td>\n",
       "      <td>4</td>\n",
       "      <td>-5.107143</td>\n",
       "    </tr>\n",
       "  </tbody>\n",
       "</table>\n",
       "</div>"
      ],
      "text/plain": [
       "   age     sex      rate     true_t          t  event  index  age_centered\n",
       "0   51    male  0.082085   9.415938   9.415938   True      0     -6.107143\n",
       "1   62  female  0.049787   6.777501   6.777501   True      1      4.892857\n",
       "2   49  female  0.049787   4.621227   4.621227   True      2     -8.107143\n",
       "3   48    male  0.082085   8.246045   8.246045   True      3     -9.107143\n",
       "4   52  female  0.049787  11.400912  11.400912   True      4     -5.107143"
      ]
     },
     "execution_count": 7,
     "metadata": {},
     "output_type": "execute_result"
    }
   ],
   "source": [
    "d.head()"
   ]
  },
  {
   "cell_type": "code",
   "execution_count": 9,
   "metadata": {},
   "outputs": [
    {
     "data": {
      "text/plain": [
       "<matplotlib.legend.Legend at 0x7f13993de898>"
      ]
     },
     "execution_count": 9,
     "metadata": {},
     "output_type": "execute_result"
    },
    {
     "data": {
      "image/png": "[encoded data removed]",
      "text/plain": [
       "<matplotlib.figure.Figure at 0x7f1391e3f8d0>"
      ]
     },
     "metadata": {},
     "output_type": "display_data"
    }
   ],
   "source": [
    "survivalstan.utils.plot_observed_survival(df=d[d['sex']=='female'], event_col='event', time_col='t', label='female')\n",
    "survivalstan.utils.plot_observed_survival(df=d[d['sex']=='male'], event_col='event', time_col='t', label='male')\n",
    "plt.legend()"
   ]
  },
  {
   "cell_type": "code",
   "execution_count": 11,
   "metadata": {},
   "outputs": [
    {
     "name": "stderr",
     "output_type": "stream",
     "text": [
      "INFO:stancache.stancache:prep_data_long_surv: cache_filename set to prep_data_long_surv.cached.df_19273668651.event_col_event.time_col_t.pkl\n",
      "INFO:stancache.stancache:prep_data_long_surv: Starting execution\n",
      "INFO:stancache.stancache:prep_data_long_surv: Execution completed (0:00:00.066382 elapsed)\n",
      "INFO:stancache.stancache:prep_data_long_surv: Saving results to cache\n"
     ]
    }
   ],
   "source": [
    "#transform to long or per time point\n",
    "dlong = stancache.cached(\n",
    "    survivalstan.prep_data_long_surv,\n",
    "    df=d, event_col='event', time_col='t'\n",
    ")"
   ]
  },
  {
   "cell_type": "code",
   "execution_count": 12,
   "metadata": {},
   "outputs": [
    {
     "data": {
      "text/html": [
       "<div>\n",
       "<style>\n",
       "    .dataframe thead tr:only-child th {\n",
       "        text-align: right;\n",
       "    }\n",
       "\n",
       "    .dataframe thead th {\n",
       "        text-align: left;\n",
       "    }\n",
       "\n",
       "    .dataframe tbody tr th {\n",
       "        vertical-align: top;\n",
       "    }\n",
       "</style>\n",
       "<table border=\"1\" class=\"dataframe\">\n",
       "  <thead>\n",
       "    <tr style=\"text-align: right;\">\n",
       "      <th></th>\n",
       "      <th>age</th>\n",
       "      <th>sex</th>\n",
       "      <th>rate</th>\n",
       "      <th>true_t</th>\n",
       "      <th>t</th>\n",
       "      <th>event</th>\n",
       "      <th>index</th>\n",
       "      <th>age_centered</th>\n",
       "      <th>key</th>\n",
       "      <th>end_time</th>\n",
       "      <th>end_failure</th>\n",
       "    </tr>\n",
       "  </thead>\n",
       "  <tbody>\n",
       "    <tr>\n",
       "      <th>25</th>\n",
       "      <td>62</td>\n",
       "      <td>female</td>\n",
       "      <td>0.049787</td>\n",
       "      <td>6.777501</td>\n",
       "      <td>6.777501</td>\n",
       "      <td>True</td>\n",
       "      <td>1</td>\n",
       "      <td>4.892857</td>\n",
       "      <td>1</td>\n",
       "      <td>4.621227</td>\n",
       "      <td>False</td>\n",
       "    </tr>\n",
       "    <tr>\n",
       "      <th>33</th>\n",
       "      <td>62</td>\n",
       "      <td>female</td>\n",
       "      <td>0.049787</td>\n",
       "      <td>6.777501</td>\n",
       "      <td>6.777501</td>\n",
       "      <td>True</td>\n",
       "      <td>1</td>\n",
       "      <td>4.892857</td>\n",
       "      <td>1</td>\n",
       "      <td>5.276667</td>\n",
       "      <td>False</td>\n",
       "    </tr>\n",
       "    <tr>\n",
       "      <th>31</th>\n",
       "      <td>62</td>\n",
       "      <td>female</td>\n",
       "      <td>0.049787</td>\n",
       "      <td>6.777501</td>\n",
       "      <td>6.777501</td>\n",
       "      <td>True</td>\n",
       "      <td>1</td>\n",
       "      <td>4.892857</td>\n",
       "      <td>1</td>\n",
       "      <td>5.959644</td>\n",
       "      <td>False</td>\n",
       "    </tr>\n",
       "    <tr>\n",
       "      <th>40</th>\n",
       "      <td>62</td>\n",
       "      <td>female</td>\n",
       "      <td>0.049787</td>\n",
       "      <td>6.777501</td>\n",
       "      <td>6.777501</td>\n",
       "      <td>True</td>\n",
       "      <td>1</td>\n",
       "      <td>4.892857</td>\n",
       "      <td>1</td>\n",
       "      <td>6.776933</td>\n",
       "      <td>False</td>\n",
       "    </tr>\n",
       "    <tr>\n",
       "      <th>24</th>\n",
       "      <td>62</td>\n",
       "      <td>female</td>\n",
       "      <td>0.049787</td>\n",
       "      <td>6.777501</td>\n",
       "      <td>6.777501</td>\n",
       "      <td>True</td>\n",
       "      <td>1</td>\n",
       "      <td>4.892857</td>\n",
       "      <td>1</td>\n",
       "      <td>6.777501</td>\n",
       "      <td>True</td>\n",
       "    </tr>\n",
       "  </tbody>\n",
       "</table>\n",
       "</div>"
      ],
      "text/plain": [
       "    age     sex      rate    true_t         t  event  index  age_centered  \\\n",
       "25   62  female  0.049787  6.777501  6.777501   True      1      4.892857   \n",
       "33   62  female  0.049787  6.777501  6.777501   True      1      4.892857   \n",
       "31   62  female  0.049787  6.777501  6.777501   True      1      4.892857   \n",
       "40   62  female  0.049787  6.777501  6.777501   True      1      4.892857   \n",
       "24   62  female  0.049787  6.777501  6.777501   True      1      4.892857   \n",
       "\n",
       "    key  end_time end_failure  \n",
       "25    1  4.621227       False  \n",
       "33    1  5.276667       False  \n",
       "31    1  5.959644       False  \n",
       "40    1  6.776933       False  \n",
       "24    1  6.777501        True  "
      ]
     },
     "execution_count": 12,
     "metadata": {},
     "output_type": "execute_result"
    }
   ],
   "source": [
    "dlong.query('index == 1').sort_values('end_time').tail()"
   ]
  },
  {
   "cell_type": "code",
   "execution_count": 13,
   "metadata": {},
   "outputs": [
    {
     "name": "stderr",
     "output_type": "stream",
     "text": [
      "INFO:stancache.stancache:Step 1: Get compiled model code, possibly from cache\n",
      "INFO:stancache.stancache:StanModel: cache_filename set to anon_model.cython_0_26_1.model_code_5118842489520038317.pystan_2_17_0_0.stanmodel.pkl\n",
      "INFO:stancache.stancache:StanModel: Starting execution\n",
      "INFO:pystan:COMPILING THE C++ CODE FOR MODEL anon_model_40e674354a3ed49066be24f1933b1992 NOW.\n",
      "INFO:stancache.stancache:StanModel: Execution completed (0:01:06.709791 elapsed)\n",
      "INFO:stancache.stancache:StanModel: Saving results to cache\n",
      "INFO:stancache.stancache:Step 2: Get posterior draws from model, possibly from cache\n",
      "INFO:stancache.stancache:sampling: cache_filename set to anon_model.cython_0_26_1.model_code_5118842489520038317.pystan_2_17_0_0.stanfit.chains_4.data_87012476600.iter_5000.seed_9001.pkl\n",
      "INFO:stancache.stancache:sampling: Starting execution\n",
      "INFO:stancache.stancache:sampling: Execution completed (0:02:32.888514 elapsed)\n",
      "INFO:stancache.stancache:sampling: Saving results to cache\n",
      "/home/carlos/anaconda3/lib/python3.6/site-packages/stancache/stancache.py:285: UserWarning: Pickling fit objects is an experimental feature!\n",
      "The relevant StanModel instance must be pickled along with this fit object.\n",
      "When unpickling the StanModel must be unpickled first.\n",
      "  pickle.dump(res, open(cache_filepath, 'wb'), pickle.HIGHEST_PROTOCOL)\n"
     ]
    }
   ],
   "source": [
    "testfit = survivalstan.fit_stan_survival_model(\n",
    "    model_cohort = 'test model',\n",
    "    model_code = survivalstan.models.pem_survival_model,\n",
    "    df = dlong,\n",
    "    sample_col = 'index',\n",
    "    timepoint_end_col = 'end_time',\n",
    "    event_col = 'end_failure',\n",
    "    formula = '~ age_centered + sex',\n",
    "    iter = 5000,\n",
    "    chains = 4,\n",
    "    seed = 9001,\n",
    "    FIT_FUN = stancache.cached_stan_fit,\n",
    "    )"
   ]
  },
  {
   "cell_type": "code",
   "execution_count": 15,
   "metadata": {},
   "outputs": [
    {
     "name": "stdout",
     "output_type": "stream",
     "text": [
      "           mean   se_mean         sd       2.5%        50%      97.5%     Rhat\n",
      "lp__ -65.365796  2.778866  21.344873 -97.968363 -69.286129 -22.694704  1.05022\n"
     ]
    }
   ],
   "source": [
    "#review of convergence\n",
    "survivalstan.utils.print_stan_summary([testfit], pars='lp__')"
   ]
  },
  {
   "cell_type": "code",
   "execution_count": 16,
   "metadata": {},
   "outputs": [
    {
     "name": "stdout",
     "output_type": "stream",
     "text": [
      "                          mean   se_mean        sd      2.5%       50%     97.5%      Rhat\n",
      "log_baseline_raw[0]   0.049712  0.002550  0.255003 -0.414558  0.013737  0.688780  1.001339\n",
      "log_baseline_raw[1]   0.047874  0.002485  0.248527 -0.391459  0.013216  0.667407  1.001809\n",
      "log_baseline_raw[2]   0.032932  0.002399  0.239898 -0.437580  0.009381  0.623726  1.000782\n",
      "log_baseline_raw[3]   0.023780  0.002335  0.233514 -0.450275  0.003647  0.572666  1.000169\n",
      "log_baseline_raw[4]   0.014786  0.002269  0.226926 -0.468205  0.004192  0.530848  0.999739\n",
      "log_baseline_raw[5]   0.017421  0.002248  0.224764 -0.448265  0.006216  0.540430  0.999796\n",
      "log_baseline_raw[6]   0.008232  0.002286  0.228623 -0.504877  0.004505  0.526880  1.000015\n",
      "log_baseline_raw[7]  -0.014135  0.002241  0.224115 -0.549675 -0.004780  0.456625  0.999805\n",
      "log_baseline_raw[8]  -0.017439  0.002174  0.217384 -0.514228 -0.006532  0.432258  0.999937\n",
      "log_baseline_raw[9]  -0.019939  0.002261  0.226111 -0.563366 -0.005189  0.442697  1.000403\n",
      "log_baseline_raw[10] -0.023559  0.002302  0.230167 -0.560725 -0.004072  0.437111  1.000448\n",
      "log_baseline_raw[11] -0.020737  0.002252  0.225164 -0.560279 -0.003569  0.437889  0.999971\n",
      "log_baseline_raw[12] -0.030928  0.002236  0.223550 -0.578728 -0.006470  0.401333  1.000243\n",
      "log_baseline_raw[13] -0.027740  0.002193  0.219300 -0.545438 -0.005743  0.396898  1.001182\n",
      "log_baseline_raw[14] -0.028535  0.002174  0.217411 -0.544657 -0.005100  0.394123  1.001139\n",
      "log_baseline_raw[15] -0.023378  0.002267  0.226696 -0.571137 -0.003973  0.431081  1.000211\n",
      "log_baseline_raw[16] -0.031317  0.002235  0.223544 -0.584823 -0.007090  0.394883  1.001169\n",
      "log_baseline_raw[17] -0.034586  0.002217  0.221687 -0.572391 -0.009342  0.401420  1.000461\n",
      "log_baseline_raw[18] -0.033254  0.002232  0.223212 -0.590863 -0.009226  0.396971  1.000330\n",
      "log_baseline_raw[19] -0.030195  0.002273  0.227253 -0.595859 -0.005154  0.405033  1.000554\n",
      "log_baseline_raw[20] -0.030077  0.002254  0.225389 -0.565859 -0.007499  0.412469  1.000324\n",
      "log_baseline_raw[21] -0.022044  0.002283  0.228297 -0.553315 -0.006952  0.451841  1.000112\n",
      "log_baseline_raw[22] -0.068831  0.002463  0.246296 -0.704936 -0.022069  0.339185  1.002623\n"
     ]
    }
   ],
   "source": [
    "survivalstan.utils.print_stan_summary([testfit], pars='log_baseline_raw')"
   ]
  },
  {
   "cell_type": "code",
   "execution_count": 18,
   "metadata": {},
   "outputs": [
    {
     "data": {
      "image/png": "[encoded data removed]",
      "text/plain": [
       "<matplotlib.figure.Figure at 0x7f138d2c17b8>"
      ]
     },
     "metadata": {},
     "output_type": "display_data"
    }
   ],
   "source": [
    "#Rhat values\n",
    "survivalstan.utils.plot_stan_summary([testfit], pars='log_baseline_raw')"
   ]
  },
  {
   "cell_type": "code",
   "execution_count": 20,
   "metadata": {},
   "outputs": [
    {
     "data": {
      "image/png": "[encoded data removed]",
      "text/plain": [
       "<matplotlib.figure.Figure at 0x7f1390cfc0f0>"
      ]
     },
     "metadata": {},
     "output_type": "display_data"
    }
   ],
   "source": [
    "#plot posterior estimates\n",
    "survivalstan.utils.plot_coefs([testfit], element='baseline')"
   ]
  },
  {
   "cell_type": "code",
   "execution_count": 21,
   "metadata": {},
   "outputs": [
    {
     "data": {
      "image/png": "[encoded data removed]",
      "text/plain": [
       "<matplotlib.figure.Figure at 0x7f138c33bdd8>"
      ]
     },
     "metadata": {},
     "output_type": "display_data"
    }
   ],
   "source": [
    "survivalstan.utils.plot_coefs([testfit])"
   ]
  },
  {
   "cell_type": "code",
   "execution_count": 22,
   "metadata": {},
   "outputs": [
    {
     "name": "stderr",
     "output_type": "stream",
     "text": [
      "/home/carlos/anaconda3/lib/python3.6/site-packages/numpy/core/fromnumeric.py:57: FutureWarning: reshape is deprecated and will raise in a subsequent release. Please use .values.reshape(...) instead\n",
      "  return getattr(obj, method)(*args, **kwds)\n"
     ]
    },
    {
     "data": {
      "text/plain": [
       "<matplotlib.legend.Legend at 0x7f139199fa58>"
      ]
     },
     "execution_count": 22,
     "metadata": {},
     "output_type": "execute_result"
    },
    {
     "data": {
      "image/png": "[encoded data removed]",
      "text/plain": [
       "<matplotlib.figure.Figure at 0x7f1391ec7ef0>"
      ]
     },
     "metadata": {},
     "output_type": "display_data"
    }
   ],
   "source": [
    "survivalstan.utils.plot_pp_survival([testfit], fill=False)\n",
    "survivalstan.utils.plot_observed_survival(df=d, event_col='event', time_col='t', color='green', label='observed')\n",
    "plt.legend()"
   ]
  },
  {
   "cell_type": "code",
   "execution_count": null,
   "metadata": {
    "collapsed": true
   },
   "outputs": [],
   "source": []
  }
 ],
 "metadata": {
  "kernelspec": {
   "display_name": "Python 3",
   "language": "python",
   "name": "python3"
  },
  "language_info": {
   "codemirror_mode": {
    "name": "ipython",
    "version": 3
   },
   "file_extension": ".py",
   "mimetype": "text/x-python",
   "name": "python",
   "nbconvert_exporter": "python",
   "pygments_lexer": "ipython3",
   "version": "3.6.3"
  }
 },
 "nbformat": 4,
 "nbformat_minor": 2
}
